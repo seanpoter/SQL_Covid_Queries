{
 "cells": [
  {
   "cell_type": "markdown",
   "metadata": {},
   "source": [
    "# Covid SQL Data Analysis\n",
    "\n",
    "The objective of this workbook is to use SQL to analyze a create tables for Tableau visualization regarding Covid-19. For the simplicity of running this on a personal computer, we will be using SQLite. \n",
    "\n",
    "To begin, we have started by retrieving global Covid-19 data from the following link: \n",
    "https://ourworldindata.org/covid-deaths\n",
    "\n",
    "Using DB Browser for SQLite, we created a .db file to explore using the data from the above link. \n",
    "\n",
    "The below queries are intended to generate tables & csv files that can be explored visually with Tableau. Link to Tableau Covid-19 Visualization here: https://public.tableau.com/views/CovidAugustReview/Story1?:language=en-US&:display_count=n&:origin=viz_share_link\n"
   ]
  },
  {
   "cell_type": "code",
   "execution_count": 1,
   "metadata": {},
   "outputs": [],
   "source": [
    "%%capture\n",
    "%load_ext sql\n",
    "%sql sqlite:///CovidData.db"
   ]
  },
  {
   "cell_type": "code",
   "execution_count": 2,
   "metadata": {},
   "outputs": [
    {
     "name": "stdout",
     "output_type": "stream",
     "text": [
      " * sqlite:///CovidData.db\n",
      "Done.\n"
     ]
    },
    {
     "data": {
      "text/html": [
       "<table>\n",
       "    <tr>\n",
       "        <th>type</th>\n",
       "        <th>name</th>\n",
       "        <th>tbl_name</th>\n",
       "        <th>rootpage</th>\n",
       "        <th>sql</th>\n",
       "    </tr>\n",
       "    <tr>\n",
       "        <td>table</td>\n",
       "        <td>coviddeaths</td>\n",
       "        <td>coviddeaths</td>\n",
       "        <td>8300</td>\n",
       "        <td>CREATE TABLE &quot;coviddeaths&quot; (<br>\t&quot;iso_code&quot;\tTEXT,<br>\t&quot;continent&quot;\tTEXT,<br>\t&quot;location&quot;\tTEXT,<br>\t&quot;date&quot;\tTEXT,<br>\t&quot;population&quot;\tINTEGER,<br>\t&quot;total_cases&quot;\tINTEGER,<br>\t&quot;new_cases&quot;\tINTEGER,<br>\t&quot;new_cases_smoothed&quot;\tREAL,<br>\t&quot;total_deaths&quot;\tINTEGER,<br>\t&quot;new_deaths&quot;\tINTEGER,<br>\t&quot;new_deaths_smoothed&quot;\tREAL,<br>\t&quot;total_cases_per_million&quot;\tTEXT,<br>\t&quot;new_cases_per_million&quot;\tREAL,<br>\t&quot;new_cases_smoothed_per_million&quot;\tREAL,<br>\t&quot;total_deaths_per_million&quot;\tREAL,<br>\t&quot;new_deaths_per_million&quot;\tREAL,<br>\t&quot;new_deaths_smoothed_per_million&quot;\tREAL,<br>\t&quot;reproduction_rate&quot;\tREAL,<br>\t&quot;icu_patients&quot;\tINTEGER,<br>\t&quot;icu_patients_per_million&quot;\tREAL,<br>\t&quot;hosp_patients&quot;\tINTEGER,<br>\t&quot;hosp_patients_per_million&quot;\tREAL,<br>\t&quot;weekly_icu_admissions&quot;\tINTEGER,<br>\t&quot;weekly_icu_admissions_per_million&quot;\tREAL,<br>\t&quot;weekly_hosp_admissions&quot;\tINTEGER,<br>\t&quot;weekly_hosp_admissions_per_million&quot;\tREAL<br>)</td>\n",
       "    </tr>\n",
       "    <tr>\n",
       "        <td>table</td>\n",
       "        <td>covidvax</td>\n",
       "        <td>covidvax</td>\n",
       "        <td>3445</td>\n",
       "        <td>CREATE TABLE &quot;covidvax&quot; (<br>\t&quot;iso_code&quot;\tTEXT,<br>\t&quot;continent&quot;\tTEXT,<br>\t&quot;location&quot;\tTEXT,<br>\t&quot;date&quot;\tTEXT,<br>\t&quot;new_tests&quot;\tINTEGER,<br>\t&quot;total_tests&quot;\tINTEGER,<br>\t&quot;total_tests_per_thousand&quot;\tREAL,<br>\t&quot;new_tests_per_thousand&quot;\tREAL,<br>\t&quot;new_tests_smoothed&quot;\tREAL,<br>\t&quot;new_tests_smoothed_per_thousand&quot;\tREAL,<br>\t&quot;positive_rate&quot;\tREAL,<br>\t&quot;tests_per_case&quot;\tREAL,<br>\t&quot;tests_units&quot;\tINTEGER,<br>\t&quot;total_vaccinations&quot;\tINTEGER,<br>\t&quot;people_vaccinated&quot;\tINTEGER,<br>\t&quot;people_fully_vaccinated&quot;\tINTEGER,<br>\t&quot;total_boosters&quot;\tINTEGER,<br>\t&quot;new_vaccinations&quot;\tINTEGER,<br>\t&quot;new_vaccinations_smoothed&quot;\tREAL,<br>\t&quot;total_vaccinations_per_hundred&quot;\tREAL,<br>\t&quot;people_vaccinated_per_hundred&quot;\tREAL,<br>\t&quot;people_fully_vaccinated_per_hundred&quot;\tREAL,<br>\t&quot;total_boosters_per_hundred&quot;\tREAL,<br>\t&quot;new_vaccinations_smoothed_per_million&quot;\tREAL,<br>\t&quot;stringency_index&quot;\tREAL,<br>\t&quot;population_density&quot;\tREAL,<br>\t&quot;median_age&quot;\tREAL,<br>\t&quot;aged_65_older&quot;\tREAL,<br>\t&quot;aged_70_older&quot;\tREAL,<br>\t&quot;gdp_per_capita&quot;\tREAL,<br>\t&quot;extreme_poverty&quot;\tREAL,<br>\t&quot;cardiovasc_death_rate&quot;\tREAL,<br>\t&quot;diabetes_prevalence&quot;\tREAL,<br>\t&quot;female_smokers&quot;\tREAL,<br>\t&quot;male_smokers&quot;\tREAL,<br>\t&quot;handwashing_facilities&quot;\tREAL,<br>\t&quot;hospital_beds_per_thousand&quot;\tREAL,<br>\t&quot;life_expectancy&quot;\tREAL,<br>\t&quot;human_development_index&quot;\tREAL,<br>\t&quot;excess_mortality&quot;\tREAL<br>)</td>\n",
       "    </tr>\n",
       "</table>"
      ],
      "text/plain": [
       "[('table', 'coviddeaths', 'coviddeaths', 8300, 'CREATE TABLE \"coviddeaths\" (\\n\\t\"iso_code\"\\tTEXT,\\n\\t\"continent\"\\tTEXT,\\n\\t\"location\"\\tTEXT,\\n\\t\"date\"\\tTEXT,\\n\\t\"population\"\\tINTEGER,\\n\\t\"total_cas ... (567 characters truncated) ... sions\"\\tINTEGER,\\n\\t\"weekly_icu_admissions_per_million\"\\tREAL,\\n\\t\"weekly_hosp_admissions\"\\tINTEGER,\\n\\t\"weekly_hosp_admissions_per_million\"\\tREAL\\n)'),\n",
       " ('table', 'covidvax', 'covidvax', 3445, 'CREATE TABLE \"covidvax\" (\\n\\t\"iso_code\"\\tTEXT,\\n\\t\"continent\"\\tTEXT,\\n\\t\"location\"\\tTEXT,\\n\\t\"date\"\\tTEXT,\\n\\t\"new_tests\"\\tINTEGER,\\n\\t\"total_tests\"\\ ... (992 characters truncated) ... ilities\"\\tREAL,\\n\\t\"hospital_beds_per_thousand\"\\tREAL,\\n\\t\"life_expectancy\"\\tREAL,\\n\\t\"human_development_index\"\\tREAL,\\n\\t\"excess_mortality\"\\tREAL\\n)')]"
      ]
     },
     "execution_count": 2,
     "metadata": {},
     "output_type": "execute_result"
    }
   ],
   "source": [
    "%%sql\n",
    "-- Overview of current database tables \n",
    "\n",
    "Select * \n",
    "FROM sqlite_master \n",
    "WHERE type='table';"
   ]
  },
  {
   "cell_type": "code",
   "execution_count": 3,
   "metadata": {},
   "outputs": [
    {
     "name": "stdout",
     "output_type": "stream",
     "text": [
      " * sqlite:///CovidData.db\n",
      "Done.\n",
      "Done.\n"
     ]
    },
    {
     "data": {
      "text/plain": [
       "[]"
      ]
     },
     "execution_count": 3,
     "metadata": {},
     "output_type": "execute_result"
    }
   ],
   "source": [
    "%%sql\n",
    "\n",
    "-- Query to look at Deaths vs Location \n",
    "\n",
    "\n",
    "DROP TABLE IF EXISTS Cases_Deaths_by_Location_Date; \n",
    "CREATE TABLE Cases_Deaths_by_Location_Date AS \n",
    "    SELECT Location, date, total_cases, new_cases, total_deaths, population\n",
    "    FROM coviddeaths\n",
    "    ORDER BY 1,2;\n",
    "    \n"
   ]
  },
  {
   "cell_type": "code",
   "execution_count": 4,
   "metadata": {},
   "outputs": [
    {
     "name": "stdout",
     "output_type": "stream",
     "text": [
      " * sqlite:///CovidData.db\n",
      "Done.\n",
      "Done.\n"
     ]
    },
    {
     "data": {
      "text/plain": [
       "[]"
      ]
     },
     "execution_count": 4,
     "metadata": {},
     "output_type": "execute_result"
    }
   ],
   "source": [
    "%%sql\n",
    "\n",
    "-- Query to look at Death Rate by Location, by Date\n",
    "-- Introducing Death_Rate column \n",
    "\n",
    "DROP TABLE IF EXISTS Death_Rate_by_Location_Date; \n",
    "CREATE TABLE Death_Rate_by_Location_Date AS \n",
    "    SELECT Location, date, total_cases, total_deaths, \n",
    "        CAST(total_deaths AS FLOAT)/total_cases*100 as Death_Rate, population\n",
    "    FROM coviddeaths\n",
    "    ORDER BY 1,2\n",
    "    LIMIT 40;\n",
    "\n"
   ]
  },
  {
   "cell_type": "code",
   "execution_count": 5,
   "metadata": {},
   "outputs": [
    {
     "name": "stdout",
     "output_type": "stream",
     "text": [
      " * sqlite:///CovidData.db\n",
      "Done.\n",
      "Done.\n"
     ]
    },
    {
     "data": {
      "text/plain": [
       "[]"
      ]
     },
     "execution_count": 5,
     "metadata": {},
     "output_type": "execute_result"
    }
   ],
   "source": [
    "%%sql\n",
    "\n",
    "-- Query to look at Total Cases vs Population\n",
    "-- Cast total_cases column as Float type to avoid int / int error  \n",
    "\n",
    "DROP TABLE IF EXISTS Case_Rate_per_Capita; \n",
    "CREATE TABLE Case_Rate_per_Capita AS \n",
    "    SELECT Location, date, total_cases, Population, \n",
    "        CAST(total_cases AS FLOAT)/population*100 as Case_Rate\n",
    "    FROM coviddeaths\n",
    "    ORDER BY 1,2;\n"
   ]
  },
  {
   "cell_type": "code",
   "execution_count": 6,
   "metadata": {},
   "outputs": [
    {
     "name": "stdout",
     "output_type": "stream",
     "text": [
      " * sqlite:///CovidData.db\n",
      "Done.\n",
      "Done.\n"
     ]
    },
    {
     "data": {
      "text/plain": [
       "[]"
      ]
     },
     "execution_count": 6,
     "metadata": {},
     "output_type": "execute_result"
    }
   ],
   "source": [
    "%%sql\n",
    "\n",
    "-- Query to look at Countries with highest infection rates vs population\n",
    "-- \n",
    "\n",
    "DROP TABLE IF EXISTS Infection_Rate_per_Capita; \n",
    "CREATE TABLE Infection_Rate_per_Capita AS \n",
    "    SELECT Location, Population, max(CAST(total_cases AS INT)) as Max_Cases_Count, \n",
    "        MAX((CAST(total_cases AS FLOAT)/population)*100) as Infection_Rate_Per_Capita\n",
    "    FROM coviddeaths\n",
    "    GROUP BY Location, Population\n",
    "    ORDER BY Infection_Rate_Per_Capita DESC;"
   ]
  },
  {
   "cell_type": "code",
   "execution_count": 7,
   "metadata": {},
   "outputs": [
    {
     "name": "stdout",
     "output_type": "stream",
     "text": [
      " * sqlite:///CovidData.db\n",
      "Done.\n",
      "Done.\n"
     ]
    },
    {
     "data": {
      "text/plain": [
       "[]"
      ]
     },
     "execution_count": 7,
     "metadata": {},
     "output_type": "execute_result"
    }
   ],
   "source": [
    "%%sql\n",
    "\n",
    "-- Query to look at each location's death count vs population\n",
    "-- Alternate approach - multiple column by float (1.0) to avoid int / int error\n",
    "-- Filtering locations that have no reported death counts (assuming missing info)\n",
    "-- Filering out previously aggregated locations to avoid double counting (\"WHERE continent IS NOT '' \")\n",
    "    -- Ex) Filters out locations such as \"Europe\" etc. \n",
    "\n",
    "\n",
    "DROP TABLE IF EXISTS Death_Rate_per_Capita; \n",
    "CREATE TABLE Death_Rate_per_Capita AS \n",
    "    SELECT Location, continent, Population, MAX(total_deaths*1) as Death_Count, \n",
    "        MAX((((total_deaths *1.0))/population)*100) as Death_Rate_Per_Capita\n",
    "    FROM coviddeaths\n",
    "    WHERE continent IS NOT ''\n",
    "    GROUP BY Location, Population\n",
    "    HAVING Death_Count >0\n",
    "    ORDER BY Death_Count DESC;"
   ]
  },
  {
   "cell_type": "code",
   "execution_count": null,
   "metadata": {},
   "outputs": [],
   "source": []
  },
  {
   "cell_type": "code",
   "execution_count": 8,
   "metadata": {},
   "outputs": [
    {
     "name": "stdout",
     "output_type": "stream",
     "text": [
      " * sqlite:///CovidData.db\n",
      "Done.\n",
      "Done.\n"
     ]
    },
    {
     "data": {
      "text/plain": [
       "[]"
      ]
     },
     "execution_count": 8,
     "metadata": {},
     "output_type": "execute_result"
    }
   ],
   "source": [
    "%%sql\n",
    "\n",
    "-- Query to look at deaths on each continent\n",
    "-- Filtering out certain results to avoid double counting (e.g. \"European Union\")\n",
    "\n",
    "DROP TABLE IF EXISTS Deaths_by_Continent; \n",
    "CREATE TABLE Deaths_by_Continent AS \n",
    "    SELECT location,  MAX(total_deaths*1) as Death_count\n",
    "    FROM coviddeaths\n",
    "    WHERE continent IS '' and location is not 'World' and location is not 'European Union'\n",
    "    GROUP BY location\n",
    "    ORDER BY Death_count DESC;\n",
    "\n"
   ]
  },
  {
   "cell_type": "code",
   "execution_count": 9,
   "metadata": {},
   "outputs": [
    {
     "name": "stdout",
     "output_type": "stream",
     "text": [
      " * sqlite:///CovidData.db\n",
      "Done.\n",
      "Done.\n",
      "Done.\n"
     ]
    },
    {
     "data": {
      "text/plain": [
       "[]"
      ]
     },
     "execution_count": 9,
     "metadata": {},
     "output_type": "execute_result"
    }
   ],
   "source": [
    "%%sql\n",
    "\n",
    "-- Query to look at global cases by date\n",
    "-- Using windows function to calculate running total of cases with \"new_cases\" column \n",
    "\n",
    "DROP TABLE IF EXISTS Global_Cases_RT;\n",
    "CREATE TABLE Global_Cases_RT (date, Running_total_cases);\n",
    "\n",
    "WITH NewCasesByDate as (    \n",
    "    SELECT date,  sum(new_cases) as total_new_cases\n",
    "    FROM coviddeaths\n",
    "    WHERE continent is not ''\n",
    "    GROUP BY date\n",
    "    ORDER BY date\n",
    "    )\n",
    "INSERT INTO Global_Cases_RT\n",
    "SELECT date, sum(total_new_cases) OVER (ORDER BY (date)) as Running_total_cases\n",
    "from NewCasesByDate\n",
    "ORDER BY date;\n",
    "\n",
    "\n"
   ]
  },
  {
   "cell_type": "code",
   "execution_count": null,
   "metadata": {},
   "outputs": [],
   "source": []
  },
  {
   "cell_type": "code",
   "execution_count": 10,
   "metadata": {},
   "outputs": [
    {
     "name": "stdout",
     "output_type": "stream",
     "text": [
      " * sqlite:///CovidData.db\n",
      "Done.\n",
      "Done.\n"
     ]
    },
    {
     "data": {
      "text/plain": [
       "[]"
      ]
     },
     "execution_count": 10,
     "metadata": {},
     "output_type": "execute_result"
    }
   ],
   "source": [
    "%%sql \n",
    "\n",
    "-- Query to look at new and total vaccines by day globally\n",
    "-- Inner join tables on date and location columns\n",
    "\n",
    "DROP TABLE IF EXISTS Global_Vax_by_date;\n",
    "CREATE TABLE Global_Vax_by_date AS\n",
    "SELECT cd.location Location, cd.date Date, cd.population Population, cv.total_vaccinations, cv.new_vaccinations\n",
    "FROM coviddeaths as cd\n",
    "INNER JOIN covidvax as cv\n",
    "    ON cd.date = cv.date\n",
    "    AND cd.location = cv.location\n",
    "WHERE cd.Location = 'World'\n",
    "ORDER BY Date;\n",
    "\n"
   ]
  },
  {
   "cell_type": "code",
   "execution_count": 11,
   "metadata": {},
   "outputs": [
    {
     "name": "stdout",
     "output_type": "stream",
     "text": [
      " * sqlite:///CovidData.db\n",
      "Done.\n",
      "Done.\n"
     ]
    },
    {
     "data": {
      "text/plain": [
       "[]"
      ]
     },
     "execution_count": 11,
     "metadata": {},
     "output_type": "execute_result"
    }
   ],
   "source": [
    "%%sql \n",
    "\n",
    "-- Query to look at new and total vaccines by day in Canada\n",
    "-- Inner join tables on date and location columns\n",
    "\n",
    "DROP TABLE IF EXISTS CAN_Vax_by_date;\n",
    "CREATE TABLE CAN_Vax_by_date AS\n",
    "SELECT cd.location Location, \n",
    "        cd.date Date, \n",
    "        cd.population Population, \n",
    "        cv.total_vaccinations, \n",
    "        cv.people_vaccinated, \n",
    "        cv.people_fully_vaccinated,\n",
    "        cv.new_vaccinations, \n",
    "        cd.total_cases, \n",
    "        cd.new_cases        \n",
    "FROM coviddeaths as cd\n",
    "INNER JOIN covidvax as cv\n",
    "    ON cd.date = cv.date\n",
    "    AND cd.location = cv.location\n",
    "WHERE cd.Location = 'Canada'\n",
    "ORDER BY Date;\n",
    "\n",
    "\n"
   ]
  },
  {
   "cell_type": "code",
   "execution_count": 12,
   "metadata": {},
   "outputs": [
    {
     "name": "stdout",
     "output_type": "stream",
     "text": [
      " * sqlite:///CovidData.db\n",
      "Done.\n"
     ]
    },
    {
     "data": {
      "text/html": [
       "<table>\n",
       "    <tr>\n",
       "        <th>type</th>\n",
       "        <th>name</th>\n",
       "        <th>tbl_name</th>\n",
       "        <th>rootpage</th>\n",
       "        <th>sql</th>\n",
       "    </tr>\n",
       "    <tr>\n",
       "        <td>table</td>\n",
       "        <td>coviddeaths</td>\n",
       "        <td>coviddeaths</td>\n",
       "        <td>8300</td>\n",
       "        <td>CREATE TABLE &quot;coviddeaths&quot; (<br>\t&quot;iso_code&quot;\tTEXT,<br>\t&quot;continent&quot;\tTEXT,<br>\t&quot;location&quot;\tTEXT,<br>\t&quot;date&quot;\tTEXT,<br>\t&quot;population&quot;\tINTEGER,<br>\t&quot;total_cases&quot;\tINTEGER,<br>\t&quot;new_cases&quot;\tINTEGER,<br>\t&quot;new_cases_smoothed&quot;\tREAL,<br>\t&quot;total_deaths&quot;\tINTEGER,<br>\t&quot;new_deaths&quot;\tINTEGER,<br>\t&quot;new_deaths_smoothed&quot;\tREAL,<br>\t&quot;total_cases_per_million&quot;\tTEXT,<br>\t&quot;new_cases_per_million&quot;\tREAL,<br>\t&quot;new_cases_smoothed_per_million&quot;\tREAL,<br>\t&quot;total_deaths_per_million&quot;\tREAL,<br>\t&quot;new_deaths_per_million&quot;\tREAL,<br>\t&quot;new_deaths_smoothed_per_million&quot;\tREAL,<br>\t&quot;reproduction_rate&quot;\tREAL,<br>\t&quot;icu_patients&quot;\tINTEGER,<br>\t&quot;icu_patients_per_million&quot;\tREAL,<br>\t&quot;hosp_patients&quot;\tINTEGER,<br>\t&quot;hosp_patients_per_million&quot;\tREAL,<br>\t&quot;weekly_icu_admissions&quot;\tINTEGER,<br>\t&quot;weekly_icu_admissions_per_million&quot;\tREAL,<br>\t&quot;weekly_hosp_admissions&quot;\tINTEGER,<br>\t&quot;weekly_hosp_admissions_per_million&quot;\tREAL<br>)</td>\n",
       "    </tr>\n",
       "    <tr>\n",
       "        <td>table</td>\n",
       "        <td>covidvax</td>\n",
       "        <td>covidvax</td>\n",
       "        <td>3445</td>\n",
       "        <td>CREATE TABLE &quot;covidvax&quot; (<br>\t&quot;iso_code&quot;\tTEXT,<br>\t&quot;continent&quot;\tTEXT,<br>\t&quot;location&quot;\tTEXT,<br>\t&quot;date&quot;\tTEXT,<br>\t&quot;new_tests&quot;\tINTEGER,<br>\t&quot;total_tests&quot;\tINTEGER,<br>\t&quot;total_tests_per_thousand&quot;\tREAL,<br>\t&quot;new_tests_per_thousand&quot;\tREAL,<br>\t&quot;new_tests_smoothed&quot;\tREAL,<br>\t&quot;new_tests_smoothed_per_thousand&quot;\tREAL,<br>\t&quot;positive_rate&quot;\tREAL,<br>\t&quot;tests_per_case&quot;\tREAL,<br>\t&quot;tests_units&quot;\tINTEGER,<br>\t&quot;total_vaccinations&quot;\tINTEGER,<br>\t&quot;people_vaccinated&quot;\tINTEGER,<br>\t&quot;people_fully_vaccinated&quot;\tINTEGER,<br>\t&quot;total_boosters&quot;\tINTEGER,<br>\t&quot;new_vaccinations&quot;\tINTEGER,<br>\t&quot;new_vaccinations_smoothed&quot;\tREAL,<br>\t&quot;total_vaccinations_per_hundred&quot;\tREAL,<br>\t&quot;people_vaccinated_per_hundred&quot;\tREAL,<br>\t&quot;people_fully_vaccinated_per_hundred&quot;\tREAL,<br>\t&quot;total_boosters_per_hundred&quot;\tREAL,<br>\t&quot;new_vaccinations_smoothed_per_million&quot;\tREAL,<br>\t&quot;stringency_index&quot;\tREAL,<br>\t&quot;population_density&quot;\tREAL,<br>\t&quot;median_age&quot;\tREAL,<br>\t&quot;aged_65_older&quot;\tREAL,<br>\t&quot;aged_70_older&quot;\tREAL,<br>\t&quot;gdp_per_capita&quot;\tREAL,<br>\t&quot;extreme_poverty&quot;\tREAL,<br>\t&quot;cardiovasc_death_rate&quot;\tREAL,<br>\t&quot;diabetes_prevalence&quot;\tREAL,<br>\t&quot;female_smokers&quot;\tREAL,<br>\t&quot;male_smokers&quot;\tREAL,<br>\t&quot;handwashing_facilities&quot;\tREAL,<br>\t&quot;hospital_beds_per_thousand&quot;\tREAL,<br>\t&quot;life_expectancy&quot;\tREAL,<br>\t&quot;human_development_index&quot;\tREAL,<br>\t&quot;excess_mortality&quot;\tREAL<br>)</td>\n",
       "    </tr>\n",
       "    <tr>\n",
       "        <td>table</td>\n",
       "        <td>Cases_Deaths_by_Location_Date</td>\n",
       "        <td>Cases_Deaths_by_Location_Date</td>\n",
       "        <td>15</td>\n",
       "        <td>CREATE TABLE Cases_Deaths_by_Location_Date(<br>  location TEXT,<br>  date TEXT,<br>  total_cases INT,<br>  new_cases INT,<br>  total_deaths INT,<br>  population INT<br>)</td>\n",
       "    </tr>\n",
       "    <tr>\n",
       "        <td>table</td>\n",
       "        <td>Death_Rate_by_Location_Date</td>\n",
       "        <td>Death_Rate_by_Location_Date</td>\n",
       "        <td>2</td>\n",
       "        <td>CREATE TABLE Death_Rate_by_Location_Date(<br>  location TEXT,<br>  date TEXT,<br>  total_cases INT,<br>  total_deaths INT,<br>  Death_Rate,<br>  population INT<br>)</td>\n",
       "    </tr>\n",
       "    <tr>\n",
       "        <td>table</td>\n",
       "        <td>Case_Rate_per_Capita</td>\n",
       "        <td>Case_Rate_per_Capita</td>\n",
       "        <td>3</td>\n",
       "        <td>CREATE TABLE Case_Rate_per_Capita(<br>  location TEXT,<br>  date TEXT,<br>  total_cases INT,<br>  population INT,<br>  Case_Rate<br>)</td>\n",
       "    </tr>\n",
       "    <tr>\n",
       "        <td>table</td>\n",
       "        <td>Infection_Rate_per_Capita</td>\n",
       "        <td>Infection_Rate_per_Capita</td>\n",
       "        <td>5</td>\n",
       "        <td>CREATE TABLE Infection_Rate_per_Capita(<br>  location TEXT,<br>  population INT,<br>  Max_Cases_Count,<br>  Infection_Rate_Per_Capita<br>)</td>\n",
       "    </tr>\n",
       "    <tr>\n",
       "        <td>table</td>\n",
       "        <td>Death_Rate_per_Capita</td>\n",
       "        <td>Death_Rate_per_Capita</td>\n",
       "        <td>7</td>\n",
       "        <td>CREATE TABLE Death_Rate_per_Capita(<br>  location TEXT,<br>  continent TEXT,<br>  population INT,<br>  Death_Count,<br>  Death_Rate_Per_Capita<br>)</td>\n",
       "    </tr>\n",
       "    <tr>\n",
       "        <td>table</td>\n",
       "        <td>Deaths_by_Continent</td>\n",
       "        <td>Deaths_by_Continent</td>\n",
       "        <td>9</td>\n",
       "        <td>CREATE TABLE Deaths_by_Continent(<br>  location TEXT,<br>  Death_count<br>)</td>\n",
       "    </tr>\n",
       "    <tr>\n",
       "        <td>table</td>\n",
       "        <td>Global_Cases_RT</td>\n",
       "        <td>Global_Cases_RT</td>\n",
       "        <td>10</td>\n",
       "        <td>CREATE TABLE Global_Cases_RT (date, Running_total_cases)</td>\n",
       "    </tr>\n",
       "    <tr>\n",
       "        <td>table</td>\n",
       "        <td>Global_Vax_by_date</td>\n",
       "        <td>Global_Vax_by_date</td>\n",
       "        <td>13</td>\n",
       "        <td>CREATE TABLE Global_Vax_by_date(<br>  Location TEXT,<br>  Date TEXT,<br>  Population INT,<br>  total_vaccinations INT,<br>  new_vaccinations INT<br>)</td>\n",
       "    </tr>\n",
       "    <tr>\n",
       "        <td>table</td>\n",
       "        <td>CAN_Vax_by_date</td>\n",
       "        <td>CAN_Vax_by_date</td>\n",
       "        <td>27</td>\n",
       "        <td>CREATE TABLE CAN_Vax_by_date(<br>  Location TEXT,<br>  Date TEXT,<br>  Population INT,<br>  total_vaccinations INT,<br>  people_vaccinated INT,<br>  people_fully_vaccinated INT,<br>  new_vaccinations INT,<br>  total_cases INT,<br>  new_cases INT<br>)</td>\n",
       "    </tr>\n",
       "</table>"
      ],
      "text/plain": [
       "[('table', 'coviddeaths', 'coviddeaths', 8300, 'CREATE TABLE \"coviddeaths\" (\\n\\t\"iso_code\"\\tTEXT,\\n\\t\"continent\"\\tTEXT,\\n\\t\"location\"\\tTEXT,\\n\\t\"date\"\\tTEXT,\\n\\t\"population\"\\tINTEGER,\\n\\t\"total_cas ... (567 characters truncated) ... sions\"\\tINTEGER,\\n\\t\"weekly_icu_admissions_per_million\"\\tREAL,\\n\\t\"weekly_hosp_admissions\"\\tINTEGER,\\n\\t\"weekly_hosp_admissions_per_million\"\\tREAL\\n)'),\n",
       " ('table', 'covidvax', 'covidvax', 3445, 'CREATE TABLE \"covidvax\" (\\n\\t\"iso_code\"\\tTEXT,\\n\\t\"continent\"\\tTEXT,\\n\\t\"location\"\\tTEXT,\\n\\t\"date\"\\tTEXT,\\n\\t\"new_tests\"\\tINTEGER,\\n\\t\"total_tests\"\\ ... (992 characters truncated) ... ilities\"\\tREAL,\\n\\t\"hospital_beds_per_thousand\"\\tREAL,\\n\\t\"life_expectancy\"\\tREAL,\\n\\t\"human_development_index\"\\tREAL,\\n\\t\"excess_mortality\"\\tREAL\\n)'),\n",
       " ('table', 'Cases_Deaths_by_Location_Date', 'Cases_Deaths_by_Location_Date', 15, 'CREATE TABLE Cases_Deaths_by_Location_Date(\\n  location TEXT,\\n  date TEXT,\\n  total_cases INT,\\n  new_cases INT,\\n  total_deaths INT,\\n  population INT\\n)'),\n",
       " ('table', 'Death_Rate_by_Location_Date', 'Death_Rate_by_Location_Date', 2, 'CREATE TABLE Death_Rate_by_Location_Date(\\n  location TEXT,\\n  date TEXT,\\n  total_cases INT,\\n  total_deaths INT,\\n  Death_Rate,\\n  population INT\\n)'),\n",
       " ('table', 'Case_Rate_per_Capita', 'Case_Rate_per_Capita', 3, 'CREATE TABLE Case_Rate_per_Capita(\\n  location TEXT,\\n  date TEXT,\\n  total_cases INT,\\n  population INT,\\n  Case_Rate\\n)'),\n",
       " ('table', 'Infection_Rate_per_Capita', 'Infection_Rate_per_Capita', 5, 'CREATE TABLE Infection_Rate_per_Capita(\\n  location TEXT,\\n  population INT,\\n  Max_Cases_Count,\\n  Infection_Rate_Per_Capita\\n)'),\n",
       " ('table', 'Death_Rate_per_Capita', 'Death_Rate_per_Capita', 7, 'CREATE TABLE Death_Rate_per_Capita(\\n  location TEXT,\\n  continent TEXT,\\n  population INT,\\n  Death_Count,\\n  Death_Rate_Per_Capita\\n)'),\n",
       " ('table', 'Deaths_by_Continent', 'Deaths_by_Continent', 9, 'CREATE TABLE Deaths_by_Continent(\\n  location TEXT,\\n  Death_count\\n)'),\n",
       " ('table', 'Global_Cases_RT', 'Global_Cases_RT', 10, 'CREATE TABLE Global_Cases_RT (date, Running_total_cases)'),\n",
       " ('table', 'Global_Vax_by_date', 'Global_Vax_by_date', 13, 'CREATE TABLE Global_Vax_by_date(\\n  Location TEXT,\\n  Date TEXT,\\n  Population INT,\\n  total_vaccinations INT,\\n  new_vaccinations INT\\n)'),\n",
       " ('table', 'CAN_Vax_by_date', 'CAN_Vax_by_date', 27, 'CREATE TABLE CAN_Vax_by_date(\\n  Location TEXT,\\n  Date TEXT,\\n  Population INT,\\n  total_vaccinations INT,\\n  people_vaccinated INT,\\n  people_fully_vaccinated INT,\\n  new_vaccinations INT,\\n  total_cases INT,\\n  new_cases INT\\n)')]"
      ]
     },
     "execution_count": 12,
     "metadata": {},
     "output_type": "execute_result"
    }
   ],
   "source": [
    "%%sql\n",
    "-- Overview of database now that we have added to it\n",
    "\n",
    "Select * \n",
    "FROM sqlite_master \n",
    "WHERE type='table';"
   ]
  },
  {
   "cell_type": "markdown",
   "metadata": {},
   "source": [
    "Let's output our tables to individual CSV files so that we can visualize them with Tableau Public (free version does not allow for direct database integration). "
   ]
  },
  {
   "cell_type": "code",
   "execution_count": 13,
   "metadata": {},
   "outputs": [],
   "source": [
    "import pandas as pd\n",
    "import sqlite3\n",
    "\n",
    "# connect with DB\n",
    "conn = sqlite3.connect('CovidData.db')\n",
    "c = conn.cursor()\n",
    "\n",
    "for table in c.execute(\"SELECT name FROM sqlite_master WHERE type='table';\").fetchall():\n",
    "    t = table[0]\n",
    "    df = pd.read_sql('SELECT * from ' + t, conn)\n",
    "    df.to_csv(t + '.csv', index = False)\n"
   ]
  },
  {
   "cell_type": "code",
   "execution_count": null,
   "metadata": {},
   "outputs": [],
   "source": []
  }
 ],
 "metadata": {
  "kernelspec": {
   "display_name": "Python 3",
   "language": "python",
   "name": "python3"
  },
  "language_info": {
   "codemirror_mode": {
    "name": "ipython",
    "version": 3
   },
   "file_extension": ".py",
   "mimetype": "text/x-python",
   "name": "python",
   "nbconvert_exporter": "python",
   "pygments_lexer": "ipython3",
   "version": "3.8.5"
  }
 },
 "nbformat": 4,
 "nbformat_minor": 4
}
